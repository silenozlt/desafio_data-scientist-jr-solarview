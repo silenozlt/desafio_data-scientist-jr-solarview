{
 "cells": [
  {
   "cell_type": "code",
   "execution_count": 50,
   "metadata": {},
   "outputs": [],
   "source": [
    "import requests\n",
    "import json \n",
    "import os\n",
    "import pymysql\n",
    "import pandas as pd\n"
   ]
  },
  {
   "cell_type": "code",
   "execution_count": 51,
   "metadata": {},
   "outputs": [
    {
     "name": "stdout",
     "output_type": "stream",
     "text": [
      "b'{\"objectId\":0,\"name\":\"Pixel\",\"value\":\"2.11\",\"location\":{\"x\":-74.636731993585798,\"y\":34.053589064605561,\"spatialReference\":{\"wkid\":4326,\"latestWkid\":4326}},\"properties\":{\"Values\":[\"2.11\"]},\"catalogItems\":{\"objectIdFieldName\":\"objectid\",\"features\":[{\"attributes\":{\"objectid\":274,\"name\":\"power_600_22years_lst.nc:allsky_sfc_sw_dwn:0\",\"minps\":0,\"maxps\":10,\"lowps\":1,\"highps\":1,\"category\":1,\"tag\":\"allsky_sfc_sw_dwn\",\"groupname\":\"557954C2BD4EB69091881CD7576E25E6\",\"productname\":\"NetCDF\",\"centerx\":0,\"centery\":0,\"zorder\":null,\"we_ps\":\"1\",\"ns_ps\":\"1\",\"model\":\"SRB\",\"model_version\":\"3.0\",\"timespec\":\"LST\",\"variable\":\"allsky_sfc_sw_dwn\",\"dimensions\":\"time\",\"time\":1,\"month_abbr\":\"01\",\"month\":\"jan\",\"range\":\"19830701-20050630\",\"parameter\":\"allsky_sfc_sw_dwn\",\"starttime\":425865600000,\"endtime\":1120089600000,\"st_area_shape_\":64800,\"st_length_shape_\":1080}}]},\"catalogItemVisibilities\":[1],\"processedValues\":[\"141, 184, 0\"]}'\n"
     ]
    }
   ],
   "source": [
    "    url = 'https://asdc-arcgis.larc.nasa.gov/server/rest/services/power/power_601_22years_lst/ImageServer/identify?f=json&geometry={\"x\":-8308523,\"y\":4036000,\"spatialReference\":{\"wkid\":102100}}&returnGeometry=false&returnCatalogItems=true&mosaicRule={\"mosaicMethod\":\"esriMosaicNone\",\"where\":\"\",\"ascending\":true,\"mosaicOperation\":\"MT_FIRST\",\"multidimensionalDefinition\":[{\"variableName\":\"allsky_sfc_sw_dwn\",\"dimensionName\":\"time\",\"values\":[\"1\"],\"isSlice\":true}]}&geometryType=esriGeometryPoint&pixelSize={\"x\":19567,\"y\":19567,\"spatialReference\":{\"wkid\":102100}}&renderingRules=[{\"rasterFunction\":\"power_600_22years_1983_2005_allsky_sfc_sw_dwn\",\"variableName\":\"Raster\"}] '\n",
    "    payload = {'lat': '-74','lon': '34'}\n",
    "    headers = {'Conten-Type' : 'text/plain;charset=utf-8'}\n",
    "    \n",
    "    #response = requests.get(url, data=json.dumps(payload), headers = headers)\n",
    "    request = requests.post(url, data=json.dumps(payload), headers = headers)\n",
    "    \n",
    "    \n",
    "    print(request.content)\n",
    "    \n"
   ]
  },
  {
   "cell_type": "code",
   "execution_count": 54,
   "metadata": {},
   "outputs": [
    {
     "name": "stdout",
     "output_type": "stream",
     "text": [
      "b'<!DOCTYPE HTML PUBLIC \"-//IETF//DTD HTML 2.0//EN\">\\n<html><head>\\n<title>404 Not Found</title>\\n</head><body>\\n<h1>Not Found</h1>\\n<p>The requested URL /cgi-bin/power/v1beta/DataAccess.py was not found on this server.</p>\\n</body></html>\\n'\n"
     ]
    }
   ],
   "source": [
    "url = \"https://asdc-arcgis.larc.nasa.gov/cgi-bin/power/v1beta/DataAccess.py\"\n",
    "headers = {'Conten-Type' : 'text/plain;charset=utf-8'}\n",
    "\n",
    "r = requests.post(url, headers = headers)\n",
    "print(r.content)"
   ]
  },
  {
   "cell_type": "code",
   "execution_count": null,
   "metadata": {},
   "outputs": [],
   "source": []
  }
 ],
 "metadata": {
  "kernelspec": {
   "display_name": "Python 3",
   "language": "python",
   "name": "python3"
  },
  "language_info": {
   "codemirror_mode": {
    "name": "ipython",
    "version": 3
   },
   "file_extension": ".py",
   "mimetype": "text/x-python",
   "name": "python",
   "nbconvert_exporter": "python",
   "pygments_lexer": "ipython3",
   "version": "3.6.8"
  }
 },
 "nbformat": 4,
 "nbformat_minor": 2
}
