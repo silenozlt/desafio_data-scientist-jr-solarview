{
 "cells": [
  {
   "cell_type": "code",
   "execution_count": 2,
   "metadata": {},
   "outputs": [
    {
     "ename": "ModuleNotFoundError",
     "evalue": "No module named 'pymysql'",
     "output_type": "error",
     "traceback": [
      "\u001b[0;31m---------------------------------------------------------------------------\u001b[0m",
      "\u001b[0;31mModuleNotFoundError\u001b[0m                       Traceback (most recent call last)",
      "\u001b[0;32m<ipython-input-2-d482dc205722>\u001b[0m in \u001b[0;36m<module>\u001b[0;34m\u001b[0m\n\u001b[1;32m      1\u001b[0m \u001b[0;31m#importando bibliotecas\u001b[0m\u001b[0;34m\u001b[0m\u001b[0;34m\u001b[0m\u001b[0;34m\u001b[0m\u001b[0m\n\u001b[1;32m      2\u001b[0m \u001b[0;32mimport\u001b[0m \u001b[0mos\u001b[0m\u001b[0;34m\u001b[0m\u001b[0;34m\u001b[0m\u001b[0m\n\u001b[0;32m----> 3\u001b[0;31m \u001b[0;32mimport\u001b[0m \u001b[0mpymysql\u001b[0m\u001b[0;34m\u001b[0m\u001b[0;34m\u001b[0m\u001b[0m\n\u001b[0m\u001b[1;32m      4\u001b[0m \u001b[0;32mimport\u001b[0m \u001b[0mpandas\u001b[0m \u001b[0;32mas\u001b[0m \u001b[0mpd\u001b[0m\u001b[0;34m\u001b[0m\u001b[0;34m\u001b[0m\u001b[0m\n\u001b[1;32m      5\u001b[0m \u001b[0;34m\u001b[0m\u001b[0m\n",
      "\u001b[0;31mModuleNotFoundError\u001b[0m: No module named 'pymysql'"
     ]
    }
   ],
   "source": [
    "#importando bibliotecas\n",
    "import os\n",
    "import pymysql\n",
    "import pandas as pd\n",
    "\n",
    "#abrindo conexao com mysql\n",
    "conn = pymysql.connect(\n",
    "    host='127.0.0.1',\n",
    "    port=int(3306),\n",
    "    user='root',\n",
    "    passwd='emporium',\n",
    "    db='solar_teste',\n",
    "    charset='utf8mb4')\n",
    "\n",
    "#criando cursor\n",
    "cursor = conn.cursor()"
   ]
  },
  {
   "cell_type": "code",
   "execution_count": 2,
   "metadata": {},
   "outputs": [
    {
     "data": {
      "text/plain": [
       "1"
      ]
     },
     "execution_count": 2,
     "metadata": {},
     "output_type": "execute_result"
    }
   ],
   "source": [
    "#executa o comando\n",
    "cursor.execute(\"Insert into solar values (6,'Cassio Philipe')\")\n"
   ]
  },
  {
   "cell_type": "code",
   "execution_count": 6,
   "metadata": {},
   "outputs": [
    {
     "data": {
      "text/html": [
       "<div>\n",
       "<style scoped>\n",
       "    .dataframe tbody tr th:only-of-type {\n",
       "        vertical-align: middle;\n",
       "    }\n",
       "\n",
       "    .dataframe tbody tr th {\n",
       "        vertical-align: top;\n",
       "    }\n",
       "\n",
       "    .dataframe thead th {\n",
       "        text-align: right;\n",
       "    }\n",
       "</style>\n",
       "<table border=\"1\" class=\"dataframe\">\n",
       "  <thead>\n",
       "    <tr style=\"text-align: right;\">\n",
       "      <th></th>\n",
       "      <th>id</th>\n",
       "      <th>nome</th>\n",
       "    </tr>\n",
       "  </thead>\n",
       "  <tbody>\n",
       "    <tr>\n",
       "      <th>1</th>\n",
       "      <td>2</td>\n",
       "      <td>Heitor</td>\n",
       "    </tr>\n",
       "    <tr>\n",
       "      <th>2</th>\n",
       "      <td>3</td>\n",
       "      <td>Marina</td>\n",
       "    </tr>\n",
       "    <tr>\n",
       "      <th>3</th>\n",
       "      <td>4</td>\n",
       "      <td>Napalm</td>\n",
       "    </tr>\n",
       "    <tr>\n",
       "      <th>4</th>\n",
       "      <td>5</td>\n",
       "      <td>Victor</td>\n",
       "    </tr>\n",
       "    <tr>\n",
       "      <th>5</th>\n",
       "      <td>7</td>\n",
       "      <td>Death</td>\n",
       "    </tr>\n",
       "  </tbody>\n",
       "</table>\n",
       "</div>"
      ],
      "text/plain": [
       "   id    nome\n",
       "1   2  Heitor\n",
       "2   3  Marina\n",
       "3   4  Napalm\n",
       "4   5  Victor\n",
       "5   7   Death"
      ]
     },
     "execution_count": 6,
     "metadata": {},
     "output_type": "execute_result"
    }
   ],
   "source": [
    "df = pd.read_sql_query(\n",
    "\"select * from solar\",conn)\n",
    "df.tail(5)"
   ]
  },
  {
   "cell_type": "code",
   "execution_count": 26,
   "metadata": {},
   "outputs": [],
   "source": [
    "import requests\n",
    "import json"
   ]
  },
  {
   "cell_type": "code",
   "execution_count": 10,
   "metadata": {},
   "outputs": [],
   "source": [
    "api_token = 'seu_api_token'\n",
    "api_url_base =  'https://yahoo.com.br'"
   ]
  },
  {
   "cell_type": "code",
   "execution_count": 11,
   "metadata": {},
   "outputs": [],
   "source": [
    "def get_account_info():\n",
    "    api_url = '{0}account'.format(api_url_base)\n",
    "    \n",
    "    response = request.GET(api_url, headers=headers)\n",
    "    \n",
    "    if response.status_code == 200:\n",
    "        return json.loads(response.content.decode('utf8'))\n",
    "    else:\n",
    "        return print('Erro')\n",
    "    "
   ]
  },
  {
   "cell_type": "code",
   "execution_count": 68,
   "metadata": {},
   "outputs": [
    {
     "name": "stdout",
     "output_type": "stream",
     "text": [
      "b'{\"objectId\":0,\"name\":\"Pixel\",\"value\":\"2.11\",\"location\":{\"x\":-74.636731993585798,\"y\":34.053589064605561,\"spatialReference\":{\"wkid\":4326,\"latestWkid\":4326}},\"properties\":{\"Values\":[\"2.11\"]},\"catalogItems\":{\"objectIdFieldName\":\"objectid\",\"features\":[{\"attributes\":{\"objectid\":274,\"name\":\"power_600_22years_lst.nc:allsky_sfc_sw_dwn:0\",\"minps\":0,\"maxps\":10,\"lowps\":1,\"highps\":1,\"category\":1,\"tag\":\"allsky_sfc_sw_dwn\",\"groupname\":\"557954C2BD4EB69091881CD7576E25E6\",\"productname\":\"NetCDF\",\"centerx\":0,\"centery\":0,\"zorder\":null,\"we_ps\":\"1\",\"ns_ps\":\"1\",\"model\":\"SRB\",\"model_version\":\"3.0\",\"timespec\":\"LST\",\"variable\":\"allsky_sfc_sw_dwn\",\"dimensions\":\"time\",\"time\":1,\"month_abbr\":\"01\",\"month\":\"jan\",\"range\":\"19830701-20050630\",\"parameter\":\"allsky_sfc_sw_dwn\",\"starttime\":425865600000,\"endtime\":1120089600000,\"st_area_shape_\":64800,\"st_length_shape_\":1080}}]},\"catalogItemVisibilities\":[1],\"processedValues\":[\"141, 184, 0\"]}'\n",
      "{'x': -74.6367319935858, 'y': 34.05358906460556, 'spatialReference': {'wkid': 4326, 'latestWkid': 4326}}\n"
     ]
    }
   ],
   "source": [
    "    url = 'https://asdc-arcgis.larc.nasa.gov/server/rest/services/power/power_601_22years_lst/ImageServer/identify?f=json&geometry={\"x\":-8308523,\"y\":4036000,\"spatialReference\":{\"wkid\":102100}}&returnGeometry=false&returnCatalogItems=true&mosaicRule={\"mosaicMethod\":\"esriMosaicNone\",\"where\":\"\",\"ascending\":true,\"mosaicOperation\":\"MT_FIRST\",\"multidimensionalDefinition\":[{\"variableName\":\"allsky_sfc_sw_dwn\",\"dimensionName\":\"time\",\"values\":[\"1\"],\"isSlice\":true}]}&geometryType=esriGeometryPoint&pixelSize={\"x\":19567,\"y\":19567,\"spatialReference\":{\"wkid\":102100}}&renderingRules=[{\"rasterFunction\":\"power_600_22years_1983_2005_allsky_sfc_sw_dwn\",\"variableName\":\"Raster\"}] '\n",
    "    args = {'user': 'anonymous', 'lat': '-74','lon': '34'}\n",
    "    headers = {'Conten-Type' : 'text/plain;charset=utf-8'}\n",
    "    \n",
    "    response = requests.post(url, data=json.dumps(args), headers = headers)\n",
    "    print(response.content)\n",
    "    \n",
    "    if response.status_code == 200:\n",
    "        response_json = response.json()\n",
    "        #MOSTRAR UMA VARIAVEL DO JSON\n",
    "        origin = response_json['location']\n",
    "        print(origin)\n",
    " "
   ]
  },
  {
   "cell_type": "code",
   "execution_count": null,
   "metadata": {},
   "outputs": [],
   "source": []
  }
 ],
 "metadata": {
  "kernelspec": {
   "display_name": "Python 3",
   "language": "python",
   "name": "python3"
  },
  "language_info": {
   "codemirror_mode": {
    "name": "ipython",
    "version": 3
   },
   "file_extension": ".py",
   "mimetype": "text/x-python",
   "name": "python",
   "nbconvert_exporter": "python",
   "pygments_lexer": "ipython3",
   "version": "3.6.8"
  }
 },
 "nbformat": 4,
 "nbformat_minor": 2
}
