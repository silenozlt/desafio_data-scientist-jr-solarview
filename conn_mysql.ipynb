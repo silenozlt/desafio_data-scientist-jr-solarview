{
 "cells": [
  {
   "cell_type": "code",
   "execution_count": 69,
   "metadata": {},
   "outputs": [],
   "source": [
    "#importando bibliotecas\n",
    "import os\n",
    "import pymysql\n",
    "import pandas as pd\n",
    "\n",
    "#abrindo conexao com mysql\n",
    "conn = pymysql.connect(\n",
    "    host='127.0.0.1',\n",
    "    port=int(3306),\n",
    "    user='root',\n",
    "    passwd='emporium',\n",
    "    db='solar_teste',\n",
    "    charset='utf8mb4')\n",
    "\n",
    "#criando cursor\n",
    "cursor = conn.cursor()"
   ]
  },
  {
   "cell_type": "code",
   "execution_count": 70,
   "metadata": {},
   "outputs": [
    {
     "data": {
      "text/plain": [
       "1"
      ]
     },
     "execution_count": 70,
     "metadata": {},
     "output_type": "execute_result"
    }
   ],
   "source": [
    "#executa o comando\n",
    "cursor.execute(\"Insert into solar values (6,'Cassio Philipe')\")\n"
   ]
  },
  {
   "cell_type": "code",
   "execution_count": 71,
   "metadata": {},
   "outputs": [
    {
     "data": {
      "text/html": [
       "<div>\n",
       "<style scoped>\n",
       "    .dataframe tbody tr th:only-of-type {\n",
       "        vertical-align: middle;\n",
       "    }\n",
       "\n",
       "    .dataframe tbody tr th {\n",
       "        vertical-align: top;\n",
       "    }\n",
       "\n",
       "    .dataframe thead th {\n",
       "        text-align: right;\n",
       "    }\n",
       "</style>\n",
       "<table border=\"1\" class=\"dataframe\">\n",
       "  <thead>\n",
       "    <tr style=\"text-align: right;\">\n",
       "      <th></th>\n",
       "      <th>id</th>\n",
       "      <th>nome</th>\n",
       "    </tr>\n",
       "  </thead>\n",
       "  <tbody>\n",
       "    <tr>\n",
       "      <th>2</th>\n",
       "      <td>3</td>\n",
       "      <td>Marina</td>\n",
       "    </tr>\n",
       "    <tr>\n",
       "      <th>3</th>\n",
       "      <td>4</td>\n",
       "      <td>Napalm</td>\n",
       "    </tr>\n",
       "    <tr>\n",
       "      <th>4</th>\n",
       "      <td>5</td>\n",
       "      <td>Victor</td>\n",
       "    </tr>\n",
       "    <tr>\n",
       "      <th>5</th>\n",
       "      <td>6</td>\n",
       "      <td>Cassio Philipe</td>\n",
       "    </tr>\n",
       "    <tr>\n",
       "      <th>6</th>\n",
       "      <td>7</td>\n",
       "      <td>Death</td>\n",
       "    </tr>\n",
       "  </tbody>\n",
       "</table>\n",
       "</div>"
      ],
      "text/plain": [
       "   id            nome\n",
       "2   3          Marina\n",
       "3   4          Napalm\n",
       "4   5          Victor\n",
       "5   6  Cassio Philipe\n",
       "6   7           Death"
      ]
     },
     "execution_count": 71,
     "metadata": {},
     "output_type": "execute_result"
    }
   ],
   "source": [
    "df = pd.read_sql_query(\n",
    "\"select * from solar\",conn)\n",
    "df.tail(5)"
   ]
  },
  {
   "cell_type": "code",
   "execution_count": 2,
   "metadata": {},
   "outputs": [],
   "source": [
    "import requests\n",
    "import json"
   ]
  },
  {
   "cell_type": "code",
   "execution_count": null,
   "metadata": {},
   "outputs": [],
   "source": [
    "import requests\n",
    "import json\n",
    "    url = 'https://google.com.br'\n",
    "    args = {'lat': '-74','lon': '34'}\n",
    "    headers = {'Conten-Type' : 'text/plain;charset=utf-8'}\n",
    "    \n",
    "    response = requests.post(url, data=json.dumps(args), headers = headers)\n",
    "    print(response.content)\n",
    "    \n",
    "    if response.status_code == 200:\n",
    "        response_json = response.json()\n",
    "        #print(response.content)\n",
    "        #MOSTRAR UMA VARIAVEL DO JSON\n",
    "        #origin = response_json['location']\n",
    "       # print(origin)\n",
    " "
   ]
  },
  {
   "cell_type": "code",
   "execution_count": null,
   "metadata": {},
   "outputs": [
    {
     "name": "stdout",
     "output_type": "stream",
     "text": [
      "###################\n",
      "###Consulta  CEP###\n",
      "###################\n"
     ]
    }
   ],
   "source": [
    "import requests\n",
    "import json\n",
    "print('###################')\n",
    "print('###Consulta  CEP###')\n",
    "print('###################')\n",
    "\n",
    "cep_input = input('Digite o cep para a consulta :')\n",
    "if len(cep_input) != 8:\n",
    "    print('Quantidade de digitos invalidos !')\n",
    "    exit()\n",
    "    \n",
    "request = requests.get('https://viacep.com.br/ws/{}/json/'.format(cep_input))\n",
    "\n",
    "addres_data = request.json()\n",
    "    \n",
    "\n",
    "if 'erro' not in addres_data:\n",
    "    print('==> CEP ENCONTRADO <==')\n",
    "    \n",
    "    print('CEP: {}'.format(addres_data['cep']))\n",
    "    print('logradouro: {}'.format(addres_data['logradouro']))\n",
    "    print('Complemento: {}'.format(addres_data['complemento']))\n",
    "    print('Bairro: {}'.format(addres_data['bairro']))\n",
    "    print('Cidade: {}'.format(addres_data['localidade']))  \n",
    "    print('Estado: {}'.format(addres_data['uf']))  \n",
    "else:\n",
    "        print('CEP invalido')"
   ]
  },
  {
   "cell_type": "code",
   "execution_count": null,
   "metadata": {},
   "outputs": [],
   "source": []
  }
 ],
 "metadata": {
  "kernelspec": {
   "display_name": "Python 3",
   "language": "python",
   "name": "python3"
  },
  "language_info": {
   "codemirror_mode": {
    "name": "ipython",
    "version": 3
   },
   "file_extension": ".py",
   "mimetype": "text/x-python",
   "name": "python",
   "nbconvert_exporter": "python",
   "pygments_lexer": "ipython3",
   "version": "3.6.8"
  }
 },
 "nbformat": 4,
 "nbformat_minor": 2
}
